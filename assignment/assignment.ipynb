{
  "cells": [
    {
      "cell_type": "code",
      "source": [
        "! git clone https://github.com/ds4e/wrangling"
      ],
      "metadata": {
        "id": "cxjTD9GVIYUH",
        "outputId": "4debf0d7-c734-4b86-cdd0-e7dead474a24",
        "colab": {
          "base_uri": "https://localhost:8080/"
        }
      },
      "id": "cxjTD9GVIYUH",
      "execution_count": 194,
      "outputs": [
        {
          "output_type": "stream",
          "name": "stdout",
          "text": [
            "fatal: destination path 'wrangling' already exists and is not an empty directory.\n"
          ]
        }
      ]
    },
    {
      "cell_type": "markdown",
      "id": "13ad028b-72b7-43ed-aa78-96fd4e518040",
      "metadata": {
        "id": "13ad028b-72b7-43ed-aa78-96fd4e518040"
      },
      "source": [
        "# Assignment: Data Wrangling\n",
        "### `! git clone https://github.com/ds4e/wrangling`\n",
        "### Do Q1 and Q2, and either Q3 or Q4, for a total of 3 questions."
      ]
    },
    {
      "cell_type": "markdown",
      "id": "da879ea7-8aac-48a3-b6c2-daea56d2e072",
      "metadata": {
        "id": "da879ea7-8aac-48a3-b6c2-daea56d2e072"
      },
      "source": [
        "**Q1.** This question provides some practice cleaning variables which have common problems.\n",
        "1. Numeric variable: For `./data/airbnb_hw.csv`, clean the `Price` variable as well as you can, and explain the choices you make. How many missing values do you end up with? (Hint: What happens to the formatting when a price goes over 999 dollars, say from 675 to 1,112?)\n",
        "2. Categorical variable: For the Minnesota police use of for data, `./data/mn_police_use_of_force.csv`, clean the `subject_injury` variable, handling the NA's; this gives a value `Yes` when a person was injured by police, and `No` when no injury occurred. What proportion of the values are missing? Is this a concern? Cross-tabulate your cleaned `subject_injury` variable with the `force_type` variable. Are there any patterns regarding when the data are missing?\n",
        "3. Dummy variable: For the pretrial data covered in the lecture, clean the `WhetherDefendantWasReleasedPretrial` variable as well as you can, and, in particular, replace missing values with `np.nan`.\n",
        "4. Missing values, not at random: For the pretrial data covered in the lecture, clean the `ImposedSentenceAllChargeInContactEvent` variable as well as you can, and explain the choices you make. (Hint: Look at the `SentenceTypeAllChargesAtConvictionInContactEvent` variable.)"
      ]
    },
    {
      "cell_type": "code",
      "source": [
        "# 1\n",
        "import numpy as np # Import the numpy package into your workspace\n",
        "import matplotlib.pyplot as plt # Import matplotlib into your workspace\n",
        "import pandas as pd  # Import the pandas package into your workspace\n",
        "\n",
        "df1 = pd.read_csv('/content/wrangling/assignment/data/airbnb_hw.csv',low_memory=False)\n",
        "print(df1['Price'].describe()) # Price variable is an object type right now, not being read as a number\n",
        "\n",
        "df1['Price'] = df1['Price'].str.replace(\"$\", \"\") # Removes any \"$\" sign in values\n",
        "df1['Price'] = df1['Price'].str.replace(\",\", \"\") # Removes any \",\" in values\n",
        "df1['Price'] = df1['Price'].str.replace(\" \", \"\") # Removes any extra spaces in values\n",
        "df1['Price'] = pd.to_numeric(df1['Price'], errors='coerce') # Coerce the Price variable to numeric\n",
        "\n",
        "print(\"Number of missing values:\", df1['Price'].isnull().sum())"
      ],
      "metadata": {
        "id": "PXsiilM5fzYl",
        "outputId": "8c9da990-bab6-4592-a123-9316eef32077",
        "colab": {
          "base_uri": "https://localhost:8080/"
        }
      },
      "id": "PXsiilM5fzYl",
      "execution_count": 195,
      "outputs": [
        {
          "output_type": "stream",
          "name": "stdout",
          "text": [
            "count     30478\n",
            "unique      511\n",
            "top         150\n",
            "freq       1481\n",
            "Name: Price, dtype: object\n",
            "Number of missing values: 0\n"
          ]
        }
      ]
    },
    {
      "cell_type": "code",
      "source": [
        "# 2\n",
        "df2 = pd.read_csv('/content/wrangling/assignment/data/mn_police_use_of_force.csv',low_memory=False)\n",
        "\n",
        "# Find proportion of missing values\n",
        "print(df2['subject_injury'].isnull().sum()/len(df2['subject_injury']))\n",
        "\n",
        "# Around 76% of the data for subject injury is missing. This is concering, as this is more than three-quarters of the data set.\n",
        "\n",
        "# Replace all missing values with \"missing\"\n",
        "df2['subject_injury'] = df2['subject_injury'].fillna(\"Missing\")\n",
        "\n",
        "# Cross tabulate subject_injury and force_type\n",
        "pd.crosstab(df2['subject_injury'], df2['force_type'])"
      ],
      "metadata": {
        "id": "gdqdeLcebUMx",
        "outputId": "38a04c06-5cc0-4204-f286-8d840739a6d7",
        "colab": {
          "base_uri": "https://localhost:8080/",
          "height": 227
        }
      },
      "id": "gdqdeLcebUMx",
      "execution_count": 196,
      "outputs": [
        {
          "output_type": "stream",
          "name": "stdout",
          "text": [
            "0.7619342359767892\n"
          ]
        },
        {
          "output_type": "execute_result",
          "data": {
            "text/plain": [
              "force_type      Baton  Bodily Force  Chemical Irritant  Firearm  \\\n",
              "subject_injury                                                    \n",
              "Missing             2          7051               1421        0   \n",
              "No                  0          1093                131        2   \n",
              "Yes                 2          1286                 41        0   \n",
              "\n",
              "force_type      Gun Point Display  Improvised Weapon  Less Lethal  \\\n",
              "subject_injury                                                      \n",
              "Missing                        27                 74           87   \n",
              "No                             33                 34            0   \n",
              "Yes                            44                 40            0   \n",
              "\n",
              "force_type      Less Lethal Projectile  Maximal Restraint Technique  \\\n",
              "subject_injury                                                        \n",
              "Missing                              0                          170   \n",
              "No                                   1                            0   \n",
              "Yes                                  2                            0   \n",
              "\n",
              "force_type      Police K9 Bite  Taser  \n",
              "subject_injury                         \n",
              "Missing                     31    985  \n",
              "No                           2    150  \n",
              "Yes                         44    172  "
            ],
            "text/html": [
              "\n",
              "  <div id=\"df-82663750-5daa-4e26-b7c6-f47df28559c8\" class=\"colab-df-container\">\n",
              "    <div>\n",
              "<style scoped>\n",
              "    .dataframe tbody tr th:only-of-type {\n",
              "        vertical-align: middle;\n",
              "    }\n",
              "\n",
              "    .dataframe tbody tr th {\n",
              "        vertical-align: top;\n",
              "    }\n",
              "\n",
              "    .dataframe thead th {\n",
              "        text-align: right;\n",
              "    }\n",
              "</style>\n",
              "<table border=\"1\" class=\"dataframe\">\n",
              "  <thead>\n",
              "    <tr style=\"text-align: right;\">\n",
              "      <th>force_type</th>\n",
              "      <th>Baton</th>\n",
              "      <th>Bodily Force</th>\n",
              "      <th>Chemical Irritant</th>\n",
              "      <th>Firearm</th>\n",
              "      <th>Gun Point Display</th>\n",
              "      <th>Improvised Weapon</th>\n",
              "      <th>Less Lethal</th>\n",
              "      <th>Less Lethal Projectile</th>\n",
              "      <th>Maximal Restraint Technique</th>\n",
              "      <th>Police K9 Bite</th>\n",
              "      <th>Taser</th>\n",
              "    </tr>\n",
              "    <tr>\n",
              "      <th>subject_injury</th>\n",
              "      <th></th>\n",
              "      <th></th>\n",
              "      <th></th>\n",
              "      <th></th>\n",
              "      <th></th>\n",
              "      <th></th>\n",
              "      <th></th>\n",
              "      <th></th>\n",
              "      <th></th>\n",
              "      <th></th>\n",
              "      <th></th>\n",
              "    </tr>\n",
              "  </thead>\n",
              "  <tbody>\n",
              "    <tr>\n",
              "      <th>Missing</th>\n",
              "      <td>2</td>\n",
              "      <td>7051</td>\n",
              "      <td>1421</td>\n",
              "      <td>0</td>\n",
              "      <td>27</td>\n",
              "      <td>74</td>\n",
              "      <td>87</td>\n",
              "      <td>0</td>\n",
              "      <td>170</td>\n",
              "      <td>31</td>\n",
              "      <td>985</td>\n",
              "    </tr>\n",
              "    <tr>\n",
              "      <th>No</th>\n",
              "      <td>0</td>\n",
              "      <td>1093</td>\n",
              "      <td>131</td>\n",
              "      <td>2</td>\n",
              "      <td>33</td>\n",
              "      <td>34</td>\n",
              "      <td>0</td>\n",
              "      <td>1</td>\n",
              "      <td>0</td>\n",
              "      <td>2</td>\n",
              "      <td>150</td>\n",
              "    </tr>\n",
              "    <tr>\n",
              "      <th>Yes</th>\n",
              "      <td>2</td>\n",
              "      <td>1286</td>\n",
              "      <td>41</td>\n",
              "      <td>0</td>\n",
              "      <td>44</td>\n",
              "      <td>40</td>\n",
              "      <td>0</td>\n",
              "      <td>2</td>\n",
              "      <td>0</td>\n",
              "      <td>44</td>\n",
              "      <td>172</td>\n",
              "    </tr>\n",
              "  </tbody>\n",
              "</table>\n",
              "</div>\n",
              "    <div class=\"colab-df-buttons\">\n",
              "\n",
              "  <div class=\"colab-df-container\">\n",
              "    <button class=\"colab-df-convert\" onclick=\"convertToInteractive('df-82663750-5daa-4e26-b7c6-f47df28559c8')\"\n",
              "            title=\"Convert this dataframe to an interactive table.\"\n",
              "            style=\"display:none;\">\n",
              "\n",
              "  <svg xmlns=\"http://www.w3.org/2000/svg\" height=\"24px\" viewBox=\"0 -960 960 960\">\n",
              "    <path d=\"M120-120v-720h720v720H120Zm60-500h600v-160H180v160Zm220 220h160v-160H400v160Zm0 220h160v-160H400v160ZM180-400h160v-160H180v160Zm440 0h160v-160H620v160ZM180-180h160v-160H180v160Zm440 0h160v-160H620v160Z\"/>\n",
              "  </svg>\n",
              "    </button>\n",
              "\n",
              "  <style>\n",
              "    .colab-df-container {\n",
              "      display:flex;\n",
              "      gap: 12px;\n",
              "    }\n",
              "\n",
              "    .colab-df-convert {\n",
              "      background-color: #E8F0FE;\n",
              "      border: none;\n",
              "      border-radius: 50%;\n",
              "      cursor: pointer;\n",
              "      display: none;\n",
              "      fill: #1967D2;\n",
              "      height: 32px;\n",
              "      padding: 0 0 0 0;\n",
              "      width: 32px;\n",
              "    }\n",
              "\n",
              "    .colab-df-convert:hover {\n",
              "      background-color: #E2EBFA;\n",
              "      box-shadow: 0px 1px 2px rgba(60, 64, 67, 0.3), 0px 1px 3px 1px rgba(60, 64, 67, 0.15);\n",
              "      fill: #174EA6;\n",
              "    }\n",
              "\n",
              "    .colab-df-buttons div {\n",
              "      margin-bottom: 4px;\n",
              "    }\n",
              "\n",
              "    [theme=dark] .colab-df-convert {\n",
              "      background-color: #3B4455;\n",
              "      fill: #D2E3FC;\n",
              "    }\n",
              "\n",
              "    [theme=dark] .colab-df-convert:hover {\n",
              "      background-color: #434B5C;\n",
              "      box-shadow: 0px 1px 3px 1px rgba(0, 0, 0, 0.15);\n",
              "      filter: drop-shadow(0px 1px 2px rgba(0, 0, 0, 0.3));\n",
              "      fill: #FFFFFF;\n",
              "    }\n",
              "  </style>\n",
              "\n",
              "    <script>\n",
              "      const buttonEl =\n",
              "        document.querySelector('#df-82663750-5daa-4e26-b7c6-f47df28559c8 button.colab-df-convert');\n",
              "      buttonEl.style.display =\n",
              "        google.colab.kernel.accessAllowed ? 'block' : 'none';\n",
              "\n",
              "      async function convertToInteractive(key) {\n",
              "        const element = document.querySelector('#df-82663750-5daa-4e26-b7c6-f47df28559c8');\n",
              "        const dataTable =\n",
              "          await google.colab.kernel.invokeFunction('convertToInteractive',\n",
              "                                                    [key], {});\n",
              "        if (!dataTable) return;\n",
              "\n",
              "        const docLinkHtml = 'Like what you see? Visit the ' +\n",
              "          '<a target=\"_blank\" href=https://colab.research.google.com/notebooks/data_table.ipynb>data table notebook</a>'\n",
              "          + ' to learn more about interactive tables.';\n",
              "        element.innerHTML = '';\n",
              "        dataTable['output_type'] = 'display_data';\n",
              "        await google.colab.output.renderOutput(dataTable, element);\n",
              "        const docLink = document.createElement('div');\n",
              "        docLink.innerHTML = docLinkHtml;\n",
              "        element.appendChild(docLink);\n",
              "      }\n",
              "    </script>\n",
              "  </div>\n",
              "\n",
              "\n",
              "<div id=\"df-9ade9d99-0b1f-4016-a4aa-c8acaff6fd99\">\n",
              "  <button class=\"colab-df-quickchart\" onclick=\"quickchart('df-9ade9d99-0b1f-4016-a4aa-c8acaff6fd99')\"\n",
              "            title=\"Suggest charts\"\n",
              "            style=\"display:none;\">\n",
              "\n",
              "<svg xmlns=\"http://www.w3.org/2000/svg\" height=\"24px\"viewBox=\"0 0 24 24\"\n",
              "     width=\"24px\">\n",
              "    <g>\n",
              "        <path d=\"M19 3H5c-1.1 0-2 .9-2 2v14c0 1.1.9 2 2 2h14c1.1 0 2-.9 2-2V5c0-1.1-.9-2-2-2zM9 17H7v-7h2v7zm4 0h-2V7h2v10zm4 0h-2v-4h2v4z\"/>\n",
              "    </g>\n",
              "</svg>\n",
              "  </button>\n",
              "\n",
              "<style>\n",
              "  .colab-df-quickchart {\n",
              "      --bg-color: #E8F0FE;\n",
              "      --fill-color: #1967D2;\n",
              "      --hover-bg-color: #E2EBFA;\n",
              "      --hover-fill-color: #174EA6;\n",
              "      --disabled-fill-color: #AAA;\n",
              "      --disabled-bg-color: #DDD;\n",
              "  }\n",
              "\n",
              "  [theme=dark] .colab-df-quickchart {\n",
              "      --bg-color: #3B4455;\n",
              "      --fill-color: #D2E3FC;\n",
              "      --hover-bg-color: #434B5C;\n",
              "      --hover-fill-color: #FFFFFF;\n",
              "      --disabled-bg-color: #3B4455;\n",
              "      --disabled-fill-color: #666;\n",
              "  }\n",
              "\n",
              "  .colab-df-quickchart {\n",
              "    background-color: var(--bg-color);\n",
              "    border: none;\n",
              "    border-radius: 50%;\n",
              "    cursor: pointer;\n",
              "    display: none;\n",
              "    fill: var(--fill-color);\n",
              "    height: 32px;\n",
              "    padding: 0;\n",
              "    width: 32px;\n",
              "  }\n",
              "\n",
              "  .colab-df-quickchart:hover {\n",
              "    background-color: var(--hover-bg-color);\n",
              "    box-shadow: 0 1px 2px rgba(60, 64, 67, 0.3), 0 1px 3px 1px rgba(60, 64, 67, 0.15);\n",
              "    fill: var(--button-hover-fill-color);\n",
              "  }\n",
              "\n",
              "  .colab-df-quickchart-complete:disabled,\n",
              "  .colab-df-quickchart-complete:disabled:hover {\n",
              "    background-color: var(--disabled-bg-color);\n",
              "    fill: var(--disabled-fill-color);\n",
              "    box-shadow: none;\n",
              "  }\n",
              "\n",
              "  .colab-df-spinner {\n",
              "    border: 2px solid var(--fill-color);\n",
              "    border-color: transparent;\n",
              "    border-bottom-color: var(--fill-color);\n",
              "    animation:\n",
              "      spin 1s steps(1) infinite;\n",
              "  }\n",
              "\n",
              "  @keyframes spin {\n",
              "    0% {\n",
              "      border-color: transparent;\n",
              "      border-bottom-color: var(--fill-color);\n",
              "      border-left-color: var(--fill-color);\n",
              "    }\n",
              "    20% {\n",
              "      border-color: transparent;\n",
              "      border-left-color: var(--fill-color);\n",
              "      border-top-color: var(--fill-color);\n",
              "    }\n",
              "    30% {\n",
              "      border-color: transparent;\n",
              "      border-left-color: var(--fill-color);\n",
              "      border-top-color: var(--fill-color);\n",
              "      border-right-color: var(--fill-color);\n",
              "    }\n",
              "    40% {\n",
              "      border-color: transparent;\n",
              "      border-right-color: var(--fill-color);\n",
              "      border-top-color: var(--fill-color);\n",
              "    }\n",
              "    60% {\n",
              "      border-color: transparent;\n",
              "      border-right-color: var(--fill-color);\n",
              "    }\n",
              "    80% {\n",
              "      border-color: transparent;\n",
              "      border-right-color: var(--fill-color);\n",
              "      border-bottom-color: var(--fill-color);\n",
              "    }\n",
              "    90% {\n",
              "      border-color: transparent;\n",
              "      border-bottom-color: var(--fill-color);\n",
              "    }\n",
              "  }\n",
              "</style>\n",
              "\n",
              "  <script>\n",
              "    async function quickchart(key) {\n",
              "      const quickchartButtonEl =\n",
              "        document.querySelector('#' + key + ' button');\n",
              "      quickchartButtonEl.disabled = true;  // To prevent multiple clicks.\n",
              "      quickchartButtonEl.classList.add('colab-df-spinner');\n",
              "      try {\n",
              "        const charts = await google.colab.kernel.invokeFunction(\n",
              "            'suggestCharts', [key], {});\n",
              "      } catch (error) {\n",
              "        console.error('Error during call to suggestCharts:', error);\n",
              "      }\n",
              "      quickchartButtonEl.classList.remove('colab-df-spinner');\n",
              "      quickchartButtonEl.classList.add('colab-df-quickchart-complete');\n",
              "    }\n",
              "    (() => {\n",
              "      let quickchartButtonEl =\n",
              "        document.querySelector('#df-9ade9d99-0b1f-4016-a4aa-c8acaff6fd99 button');\n",
              "      quickchartButtonEl.style.display =\n",
              "        google.colab.kernel.accessAllowed ? 'block' : 'none';\n",
              "    })();\n",
              "  </script>\n",
              "</div>\n",
              "\n",
              "    </div>\n",
              "  </div>\n"
            ],
            "application/vnd.google.colaboratory.intrinsic+json": {
              "type": "dataframe",
              "summary": "{\n  \"name\": \"pd\",\n  \"rows\": 3,\n  \"fields\": [\n    {\n      \"column\": \"subject_injury\",\n      \"properties\": {\n        \"dtype\": \"string\",\n        \"num_unique_values\": 3,\n        \"samples\": [\n          \"Missing\",\n          \"No\",\n          \"Yes\"\n        ],\n        \"semantic_type\": \"\",\n        \"description\": \"\"\n      }\n    },\n    {\n      \"column\": \"Baton\",\n      \"properties\": {\n        \"dtype\": \"number\",\n        \"std\": 1,\n        \"min\": 0,\n        \"max\": 2,\n        \"num_unique_values\": 2,\n        \"samples\": [\n          0,\n          2\n        ],\n        \"semantic_type\": \"\",\n        \"description\": \"\"\n      }\n    },\n    {\n      \"column\": \"Bodily Force\",\n      \"properties\": {\n        \"dtype\": \"number\",\n        \"std\": 3385,\n        \"min\": 1093,\n        \"max\": 7051,\n        \"num_unique_values\": 3,\n        \"samples\": [\n          7051,\n          1093\n        ],\n        \"semantic_type\": \"\",\n        \"description\": \"\"\n      }\n    },\n    {\n      \"column\": \"Chemical Irritant\",\n      \"properties\": {\n        \"dtype\": \"number\",\n        \"std\": 772,\n        \"min\": 41,\n        \"max\": 1421,\n        \"num_unique_values\": 3,\n        \"samples\": [\n          1421,\n          131\n        ],\n        \"semantic_type\": \"\",\n        \"description\": \"\"\n      }\n    },\n    {\n      \"column\": \"Firearm\",\n      \"properties\": {\n        \"dtype\": \"number\",\n        \"std\": 1,\n        \"min\": 0,\n        \"max\": 2,\n        \"num_unique_values\": 2,\n        \"samples\": [\n          2,\n          0\n        ],\n        \"semantic_type\": \"\",\n        \"description\": \"\"\n      }\n    },\n    {\n      \"column\": \"Gun Point Display\",\n      \"properties\": {\n        \"dtype\": \"number\",\n        \"std\": 8,\n        \"min\": 27,\n        \"max\": 44,\n        \"num_unique_values\": 3,\n        \"samples\": [\n          27,\n          33\n        ],\n        \"semantic_type\": \"\",\n        \"description\": \"\"\n      }\n    },\n    {\n      \"column\": \"Improvised Weapon\",\n      \"properties\": {\n        \"dtype\": \"number\",\n        \"std\": 21,\n        \"min\": 34,\n        \"max\": 74,\n        \"num_unique_values\": 3,\n        \"samples\": [\n          74,\n          34\n        ],\n        \"semantic_type\": \"\",\n        \"description\": \"\"\n      }\n    },\n    {\n      \"column\": \"Less Lethal\",\n      \"properties\": {\n        \"dtype\": \"number\",\n        \"std\": 50,\n        \"min\": 0,\n        \"max\": 87,\n        \"num_unique_values\": 2,\n        \"samples\": [\n          0,\n          87\n        ],\n        \"semantic_type\": \"\",\n        \"description\": \"\"\n      }\n    },\n    {\n      \"column\": \"Less Lethal Projectile\",\n      \"properties\": {\n        \"dtype\": \"number\",\n        \"std\": 1,\n        \"min\": 0,\n        \"max\": 2,\n        \"num_unique_values\": 3,\n        \"samples\": [\n          0,\n          1\n        ],\n        \"semantic_type\": \"\",\n        \"description\": \"\"\n      }\n    },\n    {\n      \"column\": \"Maximal Restraint Technique\",\n      \"properties\": {\n        \"dtype\": \"number\",\n        \"std\": 98,\n        \"min\": 0,\n        \"max\": 170,\n        \"num_unique_values\": 2,\n        \"samples\": [\n          0,\n          170\n        ],\n        \"semantic_type\": \"\",\n        \"description\": \"\"\n      }\n    },\n    {\n      \"column\": \"Police K9 Bite\",\n      \"properties\": {\n        \"dtype\": \"number\",\n        \"std\": 21,\n        \"min\": 2,\n        \"max\": 44,\n        \"num_unique_values\": 3,\n        \"samples\": [\n          31,\n          2\n        ],\n        \"semantic_type\": \"\",\n        \"description\": \"\"\n      }\n    },\n    {\n      \"column\": \"Taser\",\n      \"properties\": {\n        \"dtype\": \"number\",\n        \"std\": 475,\n        \"min\": 150,\n        \"max\": 985,\n        \"num_unique_values\": 3,\n        \"samples\": [\n          985,\n          150\n        ],\n        \"semantic_type\": \"\",\n        \"description\": \"\"\n      }\n    }\n  ]\n}"
            }
          },
          "metadata": {},
          "execution_count": 196
        }
      ]
    },
    {
      "cell_type": "markdown",
      "source": [
        "All of the subject injury data when the force type was \"Maximal Restraint Technique\" is missing. A large portion of the data is missing for the force types: bodily force, chemical irritant, taser."
      ],
      "metadata": {
        "id": "ksosDHKli6iK"
      },
      "id": "ksosDHKli6iK"
    },
    {
      "cell_type": "code",
      "source": [
        "# 3\n",
        "url = 'http://www.vcsc.virginia.gov/pretrialdataproject/October%202017%20Cohort_Virginia%20Pretrial%20Data%20Project_Deidentified%20FINAL%20Update_10272021.csv'\n",
        "df3 = pd.read_csv(url,low_memory=False) # Pandas downloads and loads the pretrial .csv file\n",
        "print(df3[\"WhetherDefendantWasReleasedPretrial\"].value_counts()) # 9 is a missing value\n",
        "print(\"Missing values:\", df3[\"WhetherDefendantWasReleasedPretrial\"].isnull().sum()) # See how many missing values there are\n",
        "df3[\"WhetherDefendantWasReleasedPretrial\"] = df3[\"WhetherDefendantWasReleasedPretrial\"].replace(9, np.nan) # Replace missing values with np.nan\n",
        "print(\"Missing values:\", df3[\"WhetherDefendantWasReleasedPretrial\"].isnull().sum()) # Confirm that all the 9s were replaced with np.nan"
      ],
      "metadata": {
        "id": "v5eJa4H8jP2H",
        "outputId": "3f2c81ea-c0be-4829-ead5-25cb7b2986d1",
        "colab": {
          "base_uri": "https://localhost:8080/"
        }
      },
      "id": "v5eJa4H8jP2H",
      "execution_count": 197,
      "outputs": [
        {
          "output_type": "stream",
          "name": "stdout",
          "text": [
            "WhetherDefendantWasReleasedPretrial\n",
            "1    19154\n",
            "0     3801\n",
            "9       31\n",
            "Name: count, dtype: int64\n",
            "Missing values: 0\n",
            "Missing values: 31\n"
          ]
        }
      ]
    },
    {
      "cell_type": "code",
      "source": [
        "# 4\n",
        "print(df3[\"ImposedSentenceAllChargeInContactEvent\"].value_counts())\n",
        "print(\"Missing:\", df3[\"ImposedSentenceAllChargeInContactEvent\"].isnull().sum())\n",
        "print(\"\\n\", df3[\"SentenceTypeAllChargesAtConvictionInContactEvent\"].value_counts())\n",
        "print(\"Missing:\", df3[\"SentenceTypeAllChargesAtConvictionInContactEvent\"].isnull().sum())\n",
        "print(\"\\n\")\n",
        "pd.crosstab(df3[\"ImposedSentenceAllChargeInContactEvent\"], df3[\"SentenceTypeAllChargesAtConvictionInContactEvent\"])\n",
        "\n",
        "df3[\"ImposedSentenceAllChargeInContactEvent\"].unique() # ImposedSentenceAllChargeInContactEvent variable not read as a number\n",
        "df3[\"ImposedSentenceAllChargeInContactEvent\"] = pd.to_numeric(df3[\"ImposedSentenceAllChargeInContactEvent\"], errors='coerce') # Coerce the variable to numeric\n",
        "df3[\"ImposedSentenceAllChargeInContactEvent\"].describe() # ImposedSentenceAllChargeInContactEvent variable not read as a number\n",
        "pd.crosstab(df3[\"ImposedSentenceAllChargeInContactEvent\"], df3[\"SentenceTypeAllChargesAtConvictionInContactEvent\"])\n",
        "\n",
        "# If SentenceTypeAllChargesAtConvictionInContactEvent == 9, the information is missing\n",
        "df3.loc[df3[\"SentenceTypeAllChargesAtConvictionInContactEvent\"] == 9, \"ImposedSentenceAllChargeInContactEvent\"] = np.nan # Write missing ImposedSentenceAllChargeInContactEvent value for all cases where SentenceTypeAllChargesAtConvictionInContactEvent == 9\n",
        "print(\"Missing:\", df3[\"ImposedSentenceAllChargeInContactEvent\"].isnull().sum())\n",
        "\n",
        "# If SentenceTypeAllChargesAtConvictionInContactEvent == 0, sentence is 0 because there is no sentence for probation\n",
        "df3.loc[df3[\"SentenceTypeAllChargesAtConvictionInContactEvent\"] == 0, \"ImposedSentenceAllChargeInContactEvent\"] = 0 # Write 0 ImposedSentenceAllChargeInContactEvent value for all cases where SentenceTypeAllChargesAtConvictionInContactEvent == 0\n",
        "\n",
        "# If SentenceTypeAllChargesAtConvictionInContactEvent == 4, sentence is 0 because the charges are pending, dismissed, deferred\n",
        "df3.loc[df3[\"SentenceTypeAllChargesAtConvictionInContactEvent\"] == 4, \"ImposedSentenceAllChargeInContactEvent\"] = 0 # Write 0 ImposedSentenceAllChargeInContactEvent value for all cases where SentenceTypeAllChargesAtConvictionInContactEvent == 4"
      ],
      "metadata": {
        "colab": {
          "base_uri": "https://localhost:8080/"
        },
        "id": "FOCTM3Mfe0N0",
        "outputId": "b5e1f63a-9732-48c0-f618-529ef5e350ca"
      },
      "id": "FOCTM3Mfe0N0",
      "execution_count": 198,
      "outputs": [
        {
          "output_type": "stream",
          "name": "stdout",
          "text": [
            "ImposedSentenceAllChargeInContactEvent\n",
            "                    9053\n",
            "0                   4953\n",
            "12                  1404\n",
            ".985626283367556    1051\n",
            "6                    809\n",
            "                    ... \n",
            "49.9712525667351       1\n",
            "57.0349075975359       1\n",
            "79.9260780287474       1\n",
            "42.1642710472279       1\n",
            "1.6570841889117        1\n",
            "Name: count, Length: 484, dtype: int64\n",
            "Missing: 0\n",
            "\n",
            " SentenceTypeAllChargesAtConvictionInContactEvent\n",
            "4    8779\n",
            "0    8720\n",
            "1    4299\n",
            "2     914\n",
            "9     274\n",
            "Name: count, dtype: int64\n",
            "Missing: 0\n",
            "\n",
            "\n",
            "Missing: 9053\n"
          ]
        }
      ]
    },
    {
      "cell_type": "markdown",
      "id": "5a60a44e",
      "metadata": {
        "id": "5a60a44e"
      },
      "source": [
        "**Q2.** Go to https://sharkattackfile.net/ and download their dataset on shark attacks.\n",
        "\n",
        "1. Open the shark attack file using Pandas. It is probably not a csv file, so `read_csv` won't work.\n",
        "2. Drop any columns that do not contain data.\n",
        "3. Clean the year variable. Describe the range of values you see. Filter the rows to focus on attacks since 1940. Are attacks increasing, decreasing, or remaining constant over time?\n",
        "4. Clean the Age variable and make a histogram of the ages of the victims.\n",
        "5. What proportion of victims are male?\n",
        "6. Clean the `Type` variable so it only takes three values: Provoked and Unprovoked and Unknown. What proportion of attacks are unprovoked?\n",
        "7. Clean the `Fatal Y/N` variable so it only takes three values: Y, N, and Unknown.\n",
        "8. Are sharks more likely to launch unprovoked attacks on men or women? Is the attack more or less likely to be fatal when the attack is provoked or unprovoked? Is it more or less likely to be fatal when the victim is male or female? How do you feel about sharks?\n",
        "9. What proportion of attacks appear to be by white sharks? (Hint: `str.split()` makes a vector of text values into a list of lists, split by spaces.)"
      ]
    },
    {
      "cell_type": "code",
      "source": [
        "# 1\n",
        "import numpy as np # Import the numpy package into your workspace\n",
        "import matplotlib.pyplot as plt # Import matplotlib into your workspace\n",
        "import pandas as pd  # Import the pandas package into your workspace\n",
        "df = pd.read_excel(\"/content/sharkattack.xls\")\n",
        "\n",
        "# 2\n",
        "print(df.head()) # See which columns do not contan data\n",
        "print(df.columns)\n",
        "columnsToDrop = ['pdf', 'href formula', 'href', 'Case Number', 'Case Number.1', 'original order', 'Unnamed: 21', 'Unnamed: 22']\n",
        "df = df.drop(columns=columnsToDrop)\n",
        "print(df.head())\n",
        "print(df.shape)"
      ],
      "metadata": {
        "colab": {
          "base_uri": "https://localhost:8080/"
        },
        "id": "mddoDsBJuAMr",
        "outputId": "3cf6b963-6752-44c4-a047-7a2f68db8181"
      },
      "id": "mddoDsBJuAMr",
      "execution_count": 199,
      "outputs": [
        {
          "output_type": "stream",
          "name": "stdout",
          "text": [
            "                  Date    Year        Type           Country  \\\n",
            "0  2025-02-07 00:00:00  2025.0  Unprovoked  Turks and Caicos   \n",
            "1  2025-02-03 00:00:00  2025.0  Unprovoked         Australia   \n",
            "2  2025-01-23 00:00:00  2025.0  Unprovoked         Australia   \n",
            "3  2025-01-22 00:00:00  2025.0  Unprovoked         Australia   \n",
            "4  2025-01-11 00:00:00  2025.0    Provoked               USA   \n",
            "\n",
            "               State                       Location  Activity  \\\n",
            "0                NaN            Thompson Cove Beach  Swimming   \n",
            "1         Queensland   Woorim Beach, Bribie Island,  Swimming   \n",
            "2  Western Australia                 Shipwreck Cove   Bathing   \n",
            "3  Western Australia                 Cheynes beach    Surfing   \n",
            "4             Hawaii  Off Haleiwa Boat Harbour Oahu    Diving   \n",
            "\n",
            "                                     Name Sex Age  ...       Species   \\\n",
            "0                                Unknown    F  55  ...        Unknown   \n",
            "1                          Charlize Zmuda   F  17  ...     Bull shark   \n",
            "2                                    Boy    M  12  ...     Not stated   \n",
            "3                             Dale Kittow   M  37  ...  Bronze whaler   \n",
            "4  Male not stated was a dive tour worker   M  23  ...     Not stated   \n",
            "\n",
            "                                     Source  pdf href formula href  \\\n",
            "0                    Todd Smith: Platform X  NaN          NaN  NaN   \n",
            "1  9 News: The Brisbane Times: The Guardian  NaN          NaN  NaN   \n",
            "2                            Bob Myatt GSAF  NaN          NaN  NaN   \n",
            "3                            Bob Myatt GSAF  NaN          NaN  NaN   \n",
            "4         Kevin McMurray Trackingsharks.com  NaN          NaN  NaN   \n",
            "\n",
            "  Case Number Case Number.1 original order Unnamed: 21 Unnamed: 22  \n",
            "0         NaN           NaN            NaN         NaN         NaN  \n",
            "1         NaN           NaN            NaN         NaN         NaN  \n",
            "2         NaN           NaN            NaN         NaN         NaN  \n",
            "3         NaN           NaN            NaN         NaN         NaN  \n",
            "4         NaN           NaN            NaN         NaN         NaN  \n",
            "\n",
            "[5 rows x 23 columns]\n",
            "Index(['Date', 'Year', 'Type', 'Country', 'State', 'Location', 'Activity',\n",
            "       'Name', 'Sex', 'Age', 'Injury', 'Fatal Y/N', 'Time', 'Species ',\n",
            "       'Source', 'pdf', 'href formula', 'href', 'Case Number', 'Case Number.1',\n",
            "       'original order', 'Unnamed: 21', 'Unnamed: 22'],\n",
            "      dtype='object')\n",
            "                  Date    Year        Type           Country  \\\n",
            "0  2025-02-07 00:00:00  2025.0  Unprovoked  Turks and Caicos   \n",
            "1  2025-02-03 00:00:00  2025.0  Unprovoked         Australia   \n",
            "2  2025-01-23 00:00:00  2025.0  Unprovoked         Australia   \n",
            "3  2025-01-22 00:00:00  2025.0  Unprovoked         Australia   \n",
            "4  2025-01-11 00:00:00  2025.0    Provoked               USA   \n",
            "\n",
            "               State                       Location  Activity  \\\n",
            "0                NaN            Thompson Cove Beach  Swimming   \n",
            "1         Queensland   Woorim Beach, Bribie Island,  Swimming   \n",
            "2  Western Australia                 Shipwreck Cove   Bathing   \n",
            "3  Western Australia                 Cheynes beach    Surfing   \n",
            "4             Hawaii  Off Haleiwa Boat Harbour Oahu    Diving   \n",
            "\n",
            "                                     Name Sex Age  \\\n",
            "0                                Unknown    F  55   \n",
            "1                          Charlize Zmuda   F  17   \n",
            "2                                    Boy    M  12   \n",
            "3                             Dale Kittow   M  37   \n",
            "4  Male not stated was a dive tour worker   M  23   \n",
            "\n",
            "                                  Injury Fatal Y/N      Time       Species   \\\n",
            "0                                Unknown         N   Unknown        Unknown   \n",
            "1            Bites to arm and upper body         Y  1645 hrs     Bull shark   \n",
            "2               Minor bite to lower body         N   1711hrs     Not stated   \n",
            "3  None - chunk of surfboard  bitten out         N   1600hrs  Bronze whaler   \n",
            "4                      Bitten on the arm         N   1340hrs     Not stated   \n",
            "\n",
            "                                     Source  \n",
            "0                    Todd Smith: Platform X  \n",
            "1  9 News: The Brisbane Times: The Guardian  \n",
            "2                            Bob Myatt GSAF  \n",
            "3                            Bob Myatt GSAF  \n",
            "4         Kevin McMurray Trackingsharks.com  \n",
            "(6994, 15)\n"
          ]
        }
      ]
    },
    {
      "cell_type": "code",
      "source": [
        "# 3\n",
        "print(df[\"Year\"].describe())\n",
        "# The year values range from 0 to 2026. If the year is 0, this means the data is missing since a year can't be 0.\n",
        "\n",
        "df['Year'] = df['Year'].replace({0: np.nan})\n",
        "print(df[\"Year\"].describe()) # The 0 year values were replaced. The year values do not start at 0.\n",
        "\n",
        "# Filter the rows to focus on attacks since 1940. Are attacks increasing, decreasing, or remaining constant over time?\n",
        "df_since1940 = df[df[\"Year\"] >= 1940]\n",
        "df_since1940[\"Year\"].describe()\n",
        "df_since1940.hist()\n",
        "# Attachs are increasing over time."
      ],
      "metadata": {
        "colab": {
          "base_uri": "https://localhost:8080/",
          "height": 782
        },
        "id": "iBFTEBmmxSTq",
        "outputId": "39a2cd65-854a-474f-c276-461cde0674fd"
      },
      "id": "iBFTEBmmxSTq",
      "execution_count": 200,
      "outputs": [
        {
          "output_type": "stream",
          "name": "stdout",
          "text": [
            "count    6992.000000\n",
            "mean     1935.044336\n",
            "std       272.048128\n",
            "min         0.000000\n",
            "25%      1947.000000\n",
            "50%      1986.000000\n",
            "75%      2009.000000\n",
            "max      2026.000000\n",
            "Name: Year, dtype: float64\n",
            "count    6863.000000\n",
            "mean     1971.416290\n",
            "std        60.719051\n",
            "min         5.000000\n",
            "25%      1950.000000\n",
            "50%      1987.000000\n",
            "75%      2010.000000\n",
            "max      2026.000000\n",
            "Name: Year, dtype: float64\n"
          ]
        },
        {
          "output_type": "execute_result",
          "data": {
            "text/plain": [
              "array([[<Axes: title={'center': 'Year'}>]], dtype=object)"
            ]
          },
          "metadata": {},
          "execution_count": 200
        },
        {
          "output_type": "display_data",
          "data": {
            "text/plain": [
              "<Figure size 640x480 with 1 Axes>"
            ],
            "image/png": "[encoded data removed]"
          },
          "metadata": {}
        }
      ]
    },
    {
      "cell_type": "code",
      "source": [
        "# 4\n",
        "# Clean the Age variable and make a histogram of the ages of the victims.\n",
        "print(df[\"Age\"].dtype) # Age is not being read as a number\n",
        "df[\"Age\"] = pd.to_numeric(df[\"Age\"], errors='coerce') # Convert age variable to numeric\n",
        "print(df[\"Age\"].dtype) # Age is being read as a number\n",
        "df[\"Age\"].hist() # Histogram"
      ],
      "metadata": {
        "colab": {
          "base_uri": "https://localhost:8080/",
          "height": 482
        },
        "id": "eqLafW_B0eeH",
        "outputId": "0ddfed8c-6b84-462f-cc80-c883bca0c4c6"
      },
      "id": "eqLafW_B0eeH",
      "execution_count": 201,
      "outputs": [
        {
          "output_type": "stream",
          "name": "stdout",
          "text": [
            "object\n",
            "float64\n"
          ]
        },
        {
          "output_type": "execute_result",
          "data": {
            "text/plain": [
              "<Axes: >"
            ]
          },
          "metadata": {},
          "execution_count": 201
        },
        {
          "output_type": "display_data",
          "data": {
            "text/plain": [
              "<Figure size 640x480 with 1 Axes>"
            ],
            "image/png": "[encoded data removed]"
          },
          "metadata": {}
        }
      ]
    },
    {
      "cell_type": "code",
      "source": [
        "# 5\n",
        "# What proportion of victims are male?\n",
        "print(df[\"Sex\"].unique()) # See what values are recorded for sex\n",
        "\n",
        "# \" M\", \"M \", \"M x 2\" are all \"M\" sex. Replace these with \"M\"\n",
        "df[\"Sex\"] = df[\"Sex\"].replace([\"M \", \"M x 2\", \" M\"], \"M\")\n",
        "print(df[\"Sex\"].unique())\n",
        "\n",
        "# \"lli\", \"N\", \".\" are all missing sex. Replace these with np.nan\n",
        "df[\"Sex\"] = df[\"Sex\"].replace([\"lli\", \"N\", \".\"], np.nan)\n",
        "print(df[\"Sex\"].unique())\n",
        "\n",
        "# See what proportion of victims are male\n",
        "count_M = (df[\"Sex\"] == \"M\").sum()\n",
        "print(count_M/len(df[\"Sex\"]), \"of victims are male\")"
      ],
      "metadata": {
        "colab": {
          "base_uri": "https://localhost:8080/"
        },
        "id": "AaNw9lzk1XxM",
        "outputId": "6dadbff4-36f3-413d-ba1e-c44ca7c2f9fb"
      },
      "id": "AaNw9lzk1XxM",
      "execution_count": 202,
      "outputs": [
        {
          "output_type": "stream",
          "name": "stdout",
          "text": [
            "['F' 'M' nan ' M' 'M ' 'lli' 'M x 2' 'N' '.']\n",
            "['F' 'M' nan 'lli' 'N' '.']\n",
            "['F' 'M' nan]\n",
            "0.8031169573920504 of victims are male\n"
          ]
        }
      ]
    },
    {
      "cell_type": "code",
      "source": [
        "# 6\n",
        "# Clean the `Type` variable so it only takes three values: Provoked and Unprovoked and Unknown.\n",
        "print(df[\"Type\"].unique()) # See what values are in the \"Type\" variable\n",
        "\n",
        "# \" Provoked\" is part of the \"Provoked\" category. Replace this with \"Provoked\"\n",
        "df[\"Type\"] = df[\"Type\"].replace(\" Provoked\", \"Provoked\")\n",
        "print(\"\\n\", df[\"Type\"].unique())\n",
        "\n",
        "# \"Questionable\", nan, \"?\", \"Unconfirmed\", \"Unverified\", \"Invalid\", \"Under investigation\" are part of the \"Unknown\" category. Replace this with \"Unknown\"\n",
        "unknownList = [\"Questionable\", \"?\", \"Unconfirmed\", \"Unverified\", \"Invalid\", \"Under investigation\"]\n",
        "df[\"Type\"] = df[\"Type\"].replace(unknownList, \"Unknown\")\n",
        "df[\"Type\"] = df[\"Type\"].replace(np.nan, \"Unknown\")\n",
        "print(\"\\n\", df[\"Type\"].unique())\n",
        "\n",
        "# 'Watercraft', 'Sea Disaster', 'Boat' are part of the \"Unprovoked\" category. Replace this with \"Unprovoked\"\n",
        "unprovokedList = ['Watercraft', 'Sea Disaster', 'Boat']\n",
        "df[\"Type\"] = df[\"Type\"].replace(unprovokedList, \"Unprovoked\")\n",
        "print(\"\\n\", df[\"Type\"].unique())\n",
        "\n",
        "# What proportion of attacks are unprovoked?\n",
        "print(\"\\n\", (df[\"Type\"] == \"Unprovoked\").sum()/len(df[\"Type\"]), \"of attacks are unprovoked\")"
      ],
      "metadata": {
        "colab": {
          "base_uri": "https://localhost:8080/"
        },
        "id": "4IKRph5S3F6U",
        "outputId": "90af9107-3543-40e0-e5ea-3e6def6204d5"
      },
      "id": "4IKRph5S3F6U",
      "execution_count": 203,
      "outputs": [
        {
          "output_type": "stream",
          "name": "stdout",
          "text": [
            "['Unprovoked' 'Provoked' ' Provoked' 'Questionable' 'Watercraft'\n",
            " 'Sea Disaster' nan '?' 'Unconfirmed' 'Unverified' 'Invalid'\n",
            " 'Under investigation' 'Boat']\n",
            "\n",
            " ['Unprovoked' 'Provoked' 'Questionable' 'Watercraft' 'Sea Disaster' nan\n",
            " '?' 'Unconfirmed' 'Unverified' 'Invalid' 'Under investigation' 'Boat']\n",
            "\n",
            " ['Unprovoked' 'Provoked' 'Unknown' 'Watercraft' 'Sea Disaster' 'Boat']\n",
            "\n",
            " ['Unprovoked' 'Provoked' 'Unknown']\n",
            "\n",
            " 0.8234200743494424 of attacks are unprovoked\n"
          ]
        }
      ]
    },
    {
      "cell_type": "code",
      "source": [
        "# 7\n",
        "# Clean the `Fatal Y/N` variable so it only takes three values: Y, N, and Unknown.\n",
        "print(df[\"Fatal Y/N\"].unique()) # See what values are in the \"Fatal Y/N\" variable\n",
        "\n",
        "# \" N\", \"N \", \"n\" are part of the \"N\" category. Replace this with \"N\"\n",
        "NList = [\" N\", \"N \", \"n\"]\n",
        "df[\"Fatal Y/N\"] = df[\"Fatal Y/N\"].replace(NList, \"N\")\n",
        "print(\"\\n\", df[\"Fatal Y/N\"].unique())\n",
        "\n",
        "# \"y\", \"Y x 2\" are part of the \"Y\" category. Replace this with \"Y\"\n",
        "YList = [\"y\", \"Y x 2\"]\n",
        "df[\"Fatal Y/N\"] = df[\"Fatal Y/N\"].replace(YList, \"Y\")\n",
        "print(\"\\n\", df[\"Fatal Y/N\"].unique())\n",
        "\n",
        "# 'F' 'M' nan 'Nq' 'UNKNOWN' 2017 are part of the \"Unknown\" category. Replace this with \"Unknown\"\n",
        "unknownList = ['F', 'M', 'Nq', 'UNKNOWN', 2017]\n",
        "df[\"Fatal Y/N\"] = df[\"Fatal Y/N\"].replace(unknownList, \"Unknown\")\n",
        "df[\"Fatal Y/N\"] = df[\"Fatal Y/N\"].replace(np.nan, \"Unknown\")\n",
        "print(\"\\n\", df[\"Fatal Y/N\"].unique())"
      ],
      "metadata": {
        "id": "eVFCJ3jO5KLI",
        "outputId": "99a05e80-8b46-4aa3-c685-f8e25229fae1",
        "colab": {
          "base_uri": "https://localhost:8080/"
        }
      },
      "id": "eVFCJ3jO5KLI",
      "execution_count": 204,
      "outputs": [
        {
          "output_type": "stream",
          "name": "stdout",
          "text": [
            "['N' 'Y' 'F' 'M' nan 'n' 'Nq' 'UNKNOWN' 2017 'Y x 2' ' N' 'N ' 'y']\n",
            "\n",
            " ['N' 'Y' 'F' 'M' nan 'Nq' 'UNKNOWN' 2017 'Y x 2' 'y']\n",
            "\n",
            " ['N' 'Y' 'F' 'M' nan 'Nq' 'UNKNOWN' 2017]\n",
            "\n",
            " ['N' 'Y' 'Unknown']\n"
          ]
        }
      ]
    },
    {
      "cell_type": "code",
      "source": [
        "# 8\n",
        "# Are sharks more likely to launch unprovoked attacks on men or women?\n",
        "\n",
        "unprovokedF = ((df[\"Type\"] == \"Unprovoked\") & (df[\"Sex\"] == \"F\")).sum()\n",
        "unprovokedM = ((df[\"Type\"] == \"Unprovoked\") & (df[\"Sex\"] == \"M\")).sum()\n",
        "unprovokedTotal = unprovokedF + unprovokedM\n",
        "print(unprovokedF/unprovokedTotal, \"of unprovoked attacks on women\")\n",
        "print(unprovokedM/unprovokedTotal, \"of unprovoked attacks on men\")\n",
        "\n",
        "# Sharks are more likely to launch unprovoked attacks on men\n",
        "\n",
        "# Is the attack more or less likely to be fatal when the attack is provoked or unprovoked?\n",
        "fatalProvoked = ((df[\"Type\"] == \"Provoked\") & (df[\"Fatal Y/N\"] == \"Y\")).sum()\n",
        "fatalUnprovoked = ((df[\"Type\"] == \"Unprovoked\") & (df[\"Fatal Y/N\"] == \"Y\")).sum()\n",
        "\n",
        "unfatalProvoked = ((df[\"Type\"] == \"Provoked\") & (df[\"Fatal Y/N\"] == \"N\")).sum()\n",
        "unfatalUnprovoked = ((df[\"Type\"] == \"Unprovoked\") & (df[\"Fatal Y/N\"] == \"N\")).sum()\n",
        "\n",
        "print(\"\\n\")\n",
        "print(fatalProvoked/(fatalProvoked+unfatalProvoked), \"of provoked attacks are fatal\")\n",
        "print(fatalUnprovoked/(fatalUnprovoked+unfatalUnprovoked), \"of unprovoked attacks are fatal\")\n",
        "\n",
        "# The attack is more likley to be fatal when it is unprovoked.\n",
        "\n",
        "# Is it more or less likely to be fatal when the victim is male or female?\n",
        "fatalM = ((df[\"Sex\"] == \"M\") & (df[\"Fatal Y/N\"] == \"Y\")).sum()\n",
        "fatalF = ((df[\"Sex\"] == \"F\") & (df[\"Fatal Y/N\"] == \"Y\")).sum()\n",
        "\n",
        "unfatalM= ((df[\"Sex\"] == \"M\") & (df[\"Fatal Y/N\"] == \"N\")).sum()\n",
        "unfatalF = ((df[\"Sex\"] == \"F\") & (df[\"Fatal Y/N\"] == \"N\")).sum()\n",
        "\n",
        "print(\"\\n\")\n",
        "print(fatalM/(fatalM+unfatalM), \"of male attacks are fatal\")\n",
        "print(fatalF/(fatalF+unfatalF), \"of female attacks are fatal\")\n",
        "\n",
        "# # The attack is more likley to be fatal when the victim is male.\n",
        "\n",
        "# How do you feel about sharks?\n",
        "print(\"\\n\")\n",
        "print(\"I don't like sharks and stay away from them as much as possible\")"
      ],
      "metadata": {
        "id": "wVueCgqX5Tmy",
        "outputId": "b318c712-1212-4057-b477-f688183f3d03",
        "colab": {
          "base_uri": "https://localhost:8080/"
        }
      },
      "id": "wVueCgqX5Tmy",
      "execution_count": 210,
      "outputs": [
        {
          "output_type": "stream",
          "name": "stdout",
          "text": [
            "0.12989457831325302 of unprovoked attacks on women\n",
            "0.870105421686747 of unprovoked attacks on men\n",
            "\n",
            "\n",
            "0.03333333333333333 of provoked attacks are fatal\n",
            "0.2531779661016949 of unprovoked attacks are fatal\n",
            "\n",
            "\n",
            "0.24059713067080263 of male attacks are fatal\n",
            "0.1671270718232044 of female attacks are fatal\n",
            "\n",
            "\n",
            "I don't like sharks and stay away from them as much as possible\n"
          ]
        }
      ]
    },
    {
      "cell_type": "code",
      "source": [
        "# 9\n",
        "# What proportion of attacks appear to be by white sharks?\n",
        "# (Hint: `str.split()` makes a vector of text values into a list of lists, split by spaces.)"
      ],
      "metadata": {
        "id": "OOqLZvJM9qna"
      },
      "id": "OOqLZvJM9qna",
      "execution_count": null,
      "outputs": []
    },
    {
      "cell_type": "markdown",
      "id": "5735a4d4-8be8-433a-a351-70eb8002e632",
      "metadata": {
        "id": "5735a4d4-8be8-433a-a351-70eb8002e632"
      },
      "source": [
        "**Q3.** Open the \"tidy_data.pdf\" document in the repo, which is a paper called Tidy Data by Hadley Wickham.\n",
        "\n",
        "  1. Read the abstract. What is this paper about?\n",
        "  2. Read the introduction. What is the \"tidy data standard\" intended to accomplish?\n",
        "  3. Read the intro to section 2. What does this sentence mean: \"Like families, tidy datasets are all alike but every messy dataset is messy in its own way.\" What does this sentence mean: \"For a given dataset, it’s usually easy to figure out what are observations and what are variables, but it is surprisingly difficult to precisely define variables and observations in general.\"\n",
        "  4. Read Section 2.2. How does Wickham define values, variables, and observations?\n",
        "  5. How is \"Tidy Data\" defined in section 2.3?\n",
        "  6. Read the intro to Section 3 and Section 3.1. What are the 5 most common problems with messy datasets? Why are the data in Table 4 messy? What is \"melting\" a dataset?\n",
        "  7. Why, specifically, is table 11 messy but table 12 tidy and \"molten\"?\n",
        "  8. Read Section 6. What is the \"chicken-and-egg\" problem with focusing on tidy data? What does Wickham hope happens in the future with further work on the subject of data wrangling?"
      ]
    },
    {
      "cell_type": "markdown",
      "id": "649494cd-cfd6-4f80-992a-9994fc19e1d5",
      "metadata": {
        "id": "649494cd-cfd6-4f80-992a-9994fc19e1d5"
      },
      "source": [
        "**Q4.** Many important datasets contain a race variable, typically limited to a handful of values often including Black, White, Asian, Latino, and Indigenous. This question looks at data gathering efforts on this variable by the U.S. Federal government.\n",
        "\n",
        "1. How did the most recent US Census gather data on race?\n",
        "2. Why do we gather these data? What role do these kinds of data play in politics and society? Why does data quality matter?\n",
        "3. Please provide a constructive criticism of how the Census was conducted: What was done well? What do you think was missing? How should future large scale surveys be adjusted to best reflect the diversity of the population? Could some of the Census' good practices be adopted more widely to gather richer and more useful data?\n",
        "4. How did the Census gather data on sex and gender? Please provide a similar constructive criticism of their practices.\n",
        "5. When it comes to cleaning data, what concerns do you have about protected characteristics like sex, gender, sexual identity, or race? What challenges can you imagine arising when there are missing values? What good or bad practices might people adopt, and why?\n",
        "6. Suppose someone invented an algorithm to impute values for protected characteristics like race, gender, sex, or sexuality. What kinds of concerns would you have?"
      ]
    }
  ],
  "metadata": {
    "colab": {
      "provenance": []
    },
    "kernelspec": {
      "display_name": "Python 3 (ipykernel)",
      "language": "python",
      "name": "python3"
    },
    "language_info": {
      "codemirror_mode": {
        "name": "ipython",
        "version": 3
      },
      "file_extension": ".py",
      "mimetype": "text/x-python",
      "name": "python",
      "nbconvert_exporter": "python",
      "pygments_lexer": "ipython3",
      "version": "3.10.4"
    }
  },
  "nbformat": 4,
  "nbformat_minor": 5
}